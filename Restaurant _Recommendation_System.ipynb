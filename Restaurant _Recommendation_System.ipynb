{
 "cells": [
  {
   "cell_type": "code",
   "execution_count": 1,
   "id": "2ed98aa9-d1c1-439d-9212-8fce5599e5f4",
   "metadata": {},
   "outputs": [],
   "source": [
    "# sample dataset considered for the Restaurant _Recommendation_System project, data is stored in the form of dictionary in key and value pair.\n",
    "restaurant_data = {\n",
    "    \"Italian Delight\": {'cuisines':[\"Italian\",\"Indian\",\"Mediterranean\"],'ratings':5},\n",
    "    \"Spice Haven\": {'cuisines':[\"Indian\",\"Italian\",\"Indian\",\"Mediterranean\"],'ratings':4},\n",
    "    \"Sushi House\": {'cuisines':[\"Italian\",\"Indian\",\"Mediterranean\",\"Japanese\"],'ratings':4},\n",
    "    \"Mediterranean Bistro\": {'cuisines':[\"Indian\",\"Italian\",\"Mediterranean\",\"Japanese\"],'ratings':2},\n",
    "    \"Taco Palace\": {'cuisines':[\"Mexican\",\"Italian\",\"Indian\",\"Mediterranean\",\"Japanese\"],'ratings':1},\n",
    "    \"Burger Joint\": {'cuisines':[\"Mexican\",\"Italian\",\"Indian\",\"Mediterranean\",\"Japanese\",\"American\"],'ratings':4},\n",
    "    \"Dim Sum Paradise\": {'cuisines':[\"Chinese\", \"Dim Sum\",\"Indian\",\"Mediterranean\",\"Japanese\",\"American\"],'ratings':5},\n",
    "    \"French Fusion\": {'cuisines':[\"French\",\"American\"],'ratings':4},\n",
    "    \"Greek Taverna\": {'cuisines':[\"Greek\", \"Mediterranean\"],'ratings':5},\n",
    "    \"Thai Spice\": {'cuisines':[\"Thai\", \"Asian Fusion\"],'ratings':4},\n",
    "    # Add more restaurants with their cuisines\n",
    "}"
   ]
  },
  {
   "cell_type": "code",
   "execution_count": 2,
   "id": "2f14080d-2dce-4eb7-b924-f826c09c2a71",
   "metadata": {},
   "outputs": [],
   "source": [
    "# cuisines_data function maps the restarants name and their cuisines\n",
    "def cuisines_data():\n",
    "    cuisines={}\n",
    "    for i in restaurant_data:\n",
    "        cuisines[i]=restaurant_data[i]['cuisines']\n",
    "    return cuisines\n",
    "    \n",
    "# ratings_data function maps the restarants name and their ratings\n",
    "def ratings_data():\n",
    "    ratings={}\n",
    "    for i in restaurant_data:\n",
    "        ratings[i]=restaurant_data[i]['ratings']\n",
    "    return ratings\n",
    "    \n",
    "# full_preference function it will return dictionary of all the restaurant name, cuisines based on highestrating\n",
    "def full_preference(all_rating):# only sort of ratings\n",
    "    import operator\n",
    "    a=all_rating\n",
    "    desorted=dict(sorted(a.items(), key=operator.itemgetter(1), reverse=True)) # to see the highest rating restaurnats\n",
    "    return desorted\n",
    "#print(full_preference(filter)) #this function call will select all the rating of cuisine\n",
    "\n",
    "# top_three this function it will recommend top three cuisine for the user based on his input\n",
    "def top_three(Full_preference):    \n",
    "    top_three=list(Full_preference.keys())\n",
    "    c=1\n",
    "    print(\"Top Three Restarents are Recommended for you Inputed Cusines\")\n",
    "    for i in range(3):\n",
    "        print(c,\"'s preference is',top_three[i],'and its rating is:\",ratings_data()[top_three[i]])\n",
    "        c+=1\n",
    "        \n",
    "                    "
   ]
  },
  {
   "cell_type": "code",
   "execution_count": 3,
   "id": "260c1a96-c49f-4032-8c77-7a154925e07c",
   "metadata": {},
   "outputs": [
    {
     "name": "stdin",
     "output_type": "stream",
     "text": [
      "enter type +f food GREEK\n"
     ]
    },
    {
     "name": "stdout",
     "output_type": "stream",
     "text": [
      "Top Three Restarents are Recommended for you Inputed Cusines\n",
      "1 's preference is',top_three[i],'and its rating is: 5\n",
      "Only less than Three preference is available out of Top_Three Thank You\n"
     ]
    }
   ],
   "source": [
    "# recommend_restaurants function that takes a user's input cuisines or food.\n",
    "def recommend_restaurants(user_input):\n",
    "    User_input=user_input.title() \n",
    "    def check_cuisine(User_input):\n",
    "        l1=[]\n",
    "        for i in cuisines_data():\n",
    "            if User_input in cuisines_data()[i]: # to see input is present inside \n",
    "                l1+=[i]    #add all cuisines available restaurants in to l1\n",
    "        return l1\n",
    "    check_cuisine(User_input)\n",
    "    Check_cuisine=check_cuisine(User_input)\n",
    "    # result function it will check the cuisine and it will call the required functions and it will finally give the recommendation of cuisines to user\n",
    "    def result(Check_cuisine):\n",
    "        try:\n",
    "            if len(Check_cuisine)==0:\n",
    "                print(\"Sorry, we couldn't find any restaurants that serve\", {User_input} ,\"cuisine.\")\n",
    "            else:\n",
    "                def Cuisine_rating(l1): #parameter l1 is list of restaurants available to serve cuisine as user inputed.\n",
    "                    input_cuisine={}\n",
    "                    for i in l1:\n",
    "                        input_cuisine[i]=ratings_data()[i] \n",
    "                    return input_cuisine\n",
    "                Cuisine_rating(Check_cuisine)\n",
    "                AllCuisine_rating=Cuisine_rating(Check_cuisine) # ratings not as per ratings order\n",
    "                Full_preference=full_preference(AllCuisine_rating) # Restauranst cuisines displayed as per ratings\n",
    "                top_three(Full_preference)\n",
    "        except IndexError:\n",
    "                print('Only less than Three preference is available out of Top_Three Thank You')      \n",
    "    result(Check_cuisine)\n",
    "user_input=input('enter type of food')\n",
    "recommend_restaurants(user_input)"
   ]
  },
  {
   "cell_type": "code",
   "execution_count": null,
   "id": "2cba62a0-6e1b-4436-a63c-83af2cf5a891",
   "metadata": {},
   "outputs": [],
   "source": []
  },
  {
   "cell_type": "code",
   "execution_count": null,
   "id": "eec12c40-aa74-44aa-b68a-7d12581b908d",
   "metadata": {},
   "outputs": [],
   "source": []
  },
  {
   "cell_type": "code",
   "execution_count": null,
   "id": "8921a0bc-3519-4657-b5aa-b721bfcca226",
   "metadata": {},
   "outputs": [],
   "source": []
  },
  {
   "cell_type": "code",
   "execution_count": null,
   "id": "e1ee905c-ea55-4730-842f-169d01ae878d",
   "metadata": {},
   "outputs": [],
   "source": []
  },
  {
   "cell_type": "code",
   "execution_count": null,
   "id": "b034d1c2-c456-4176-9b4d-28d6926973af",
   "metadata": {},
   "outputs": [],
   "source": []
  },
  {
   "cell_type": "code",
   "execution_count": null,
   "id": "84c85b50-e8c2-40b4-9c60-708a68084f18",
   "metadata": {},
   "outputs": [],
   "source": []
  },
  {
   "cell_type": "code",
   "execution_count": null,
   "id": "15fb732f-60b8-433f-87dc-45533b99782a",
   "metadata": {},
   "outputs": [],
   "source": []
  },
  {
   "cell_type": "code",
   "execution_count": null,
   "id": "d1ac7915-de9d-48fe-9fad-706038d625fa",
   "metadata": {},
   "outputs": [],
   "source": []
  }
 ],
 "metadata": {
  "kernelspec": {
   "display_name": "Python 3 (ipykernel)",
   "language": "python",
   "name": "python3"
  },
  "language_info": {
   "codemirror_mode": {
    "name": "ipython",
    "version": 3
   },
   "file_extension": ".py",
   "mimetype": "text/x-python",
   "name": "python",
   "nbconvert_exporter": "python",
   "pygments_lexer": "ipython3",
   "version": "3.11.5"
  }
 },
 "nbformat": 4,
 "nbformat_minor": 5
}
